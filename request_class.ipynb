{
 "cells": [
  {
   "cell_type": "code",
   "execution_count": null,
   "metadata": {},
   "outputs": [],
   "source": [
    "import gspread\n",
    "from oauth2client.service_account import ServiceAccountCredentials\n",
    "from gspread_dataframe import set_with_dataframe\n",
    "\n",
    "scope = [\"https://spreadsheets.google.com/feeds\", \"https://www.googleapis.com/auth/spreadsheets\",\n",
    "         \"https://www.googleapis.com/auth/drive.file\", \"https://www.googleapis.com/auth/drive\"]\n",
    "credentials = ServiceAccountCredentials.from_json_keyfile_name(\"credentials.json\", scope)\n",
    "client = gspread.authorize(credentials)\n",
    "sheet1 = client.open(\"NBA Bets 2021-22\").get_worksheet(0)"
   ]
  },
  {
   "cell_type": "code",
   "execution_count": 1,
   "metadata": {},
   "outputs": [],
   "source": [
    "class connect_sheet:\n",
    "\n",
    "    def __init__(self, year: str = '2021-22', season: str = 'reg'):\n",
    "\n",
    "        self.hi = ' hi'"
   ]
  },
  {
   "cell_type": "code",
   "execution_count": 2,
   "metadata": {},
   "outputs": [
    {
     "data": {
      "text/plain": [
       "' hi'"
      ]
     },
     "execution_count": 2,
     "metadata": {},
     "output_type": "execute_result"
    }
   ],
   "source": [
    "a = connect_sheet()\n",
    "\n",
    "a.hi"
   ]
  },
  {
   "cell_type": "code",
   "execution_count": null,
   "metadata": {},
   "outputs": [],
   "source": [
    "class filters:\n",
    "\n",
    "    def __init__(self, *kwargs):\n",
    "\n",
    "        for kwarg in kwargs:\n",
    "            \n"
   ]
  },
  {
   "cell_type": "code",
   "execution_count": 6,
   "metadata": {},
   "outputs": [],
   "source": [
    "def f(**kwargs):\n",
    "    \n",
    "    ins = []\n",
    "    for key, arg in kwargs.items():\n",
    "        ins.append((key, arg))\n",
    "\n",
    "    return ins\n",
    "\n",
    "a = f(john='me', pineapple='fruit', one=1, maybe=True, idk=None)"
   ]
  },
  {
   "cell_type": "code",
   "execution_count": 10,
   "metadata": {},
   "outputs": [
    {
     "name": "stdout",
     "output_type": "stream",
     "text": [
      "hi\n"
     ]
    }
   ],
   "source": [
    "if a[1][1]:\n",
    "    print('hi')\n",
    "\n",
    "else:\n",
    "    print('bye')"
   ]
  }
 ],
 "metadata": {
  "interpreter": {
   "hash": "481fbf580910604266a6f69ab2a40cb7227f9edac014d0d3ebcb939174d08ed7"
  },
  "kernelspec": {
   "display_name": "Python 3.9.0 64-bit",
   "language": "python",
   "name": "python3"
  },
  "language_info": {
   "codemirror_mode": {
    "name": "ipython",
    "version": 3
   },
   "file_extension": ".py",
   "mimetype": "text/x-python",
   "name": "python",
   "nbconvert_exporter": "python",
   "pygments_lexer": "ipython3",
   "version": "3.9.0"
  },
  "orig_nbformat": 4
 },
 "nbformat": 4,
 "nbformat_minor": 2
}
